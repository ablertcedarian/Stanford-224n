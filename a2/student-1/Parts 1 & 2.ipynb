{
 "cells": [
  {
   "cell_type": "markdown",
   "id": "779c15e1",
   "metadata": {},
   "source": [
    "# Part 1"
   ]
  },
  {
   "cell_type": "markdown",
   "id": "6682eb3b",
   "metadata": {},
   "source": [
    "a) This equality holds because $y$ is a one-hot vector with 1 at the index of o and 0 everywhere else so the left hand side will reduce to $-\\log(\\hat{y}_o)$"
   ]
  },
  {
   "cell_type": "markdown",
   "id": "c488b199",
   "metadata": {},
   "source": [
    "b) \n",
    "i. $$\\frac{\\partial J_{naive-softmax}(v_c, o, U)}{\\partial v_c}=$$"
   ]
  }
 ],
 "metadata": {
  "kernelspec": {
   "display_name": "Python 3 (ipykernel)",
   "language": "python",
   "name": "python3"
  },
  "language_info": {
   "codemirror_mode": {
    "name": "ipython",
    "version": 3
   },
   "file_extension": ".py",
   "mimetype": "text/x-python",
   "name": "python",
   "nbconvert_exporter": "python",
   "pygments_lexer": "ipython3",
   "version": "3.11.2"
  }
 },
 "nbformat": 4,
 "nbformat_minor": 5
}
